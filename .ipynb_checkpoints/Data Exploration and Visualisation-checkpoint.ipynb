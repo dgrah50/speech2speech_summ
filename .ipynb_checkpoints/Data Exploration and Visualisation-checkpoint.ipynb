{
 "cells": [
  {
   "cell_type": "markdown",
   "metadata": {},
   "source": [
    "# Data Exploration and Visualisation\n",
    "\n",
    "### Part One : Using How2 Dataset for YouTube videos IDs, transcriptions and description summaries. \n",
    "\n",
    "* Construct databases of video transcriptions and human made descriptions\n",
    "* Also, download audios of 400 videos"
   ]
  },
  {
   "cell_type": "code",
   "execution_count": 161,
   "metadata": {},
   "outputs": [],
   "source": [
    "import pandas as pd"
   ]
  },
  {
   "cell_type": "code",
   "execution_count": 2,
   "metadata": {},
   "outputs": [
    {
     "name": "stderr",
     "output_type": "stream",
     "text": [
      "/Users/dayangraham/opt/anaconda3/lib/python3.7/site-packages/ipykernel_launcher.py:8: ParserWarning: Falling back to the 'python' engine because the 'c' engine does not support regex separators (separators > 1 char and different from '\\s+' are interpreted as regex); you can avoid this warning by specifying engine='python'.\n",
      "  \n"
     ]
    },
    {
     "data": {
      "text/html": [
       "<div>\n",
       "<style scoped>\n",
       "    .dataframe tbody tr th:only-of-type {\n",
       "        vertical-align: middle;\n",
       "    }\n",
       "\n",
       "    .dataframe tbody tr th {\n",
       "        vertical-align: top;\n",
       "    }\n",
       "\n",
       "    .dataframe thead th {\n",
       "        text-align: right;\n",
       "    }\n",
       "</style>\n",
       "<table border=\"1\" class=\"dataframe\">\n",
       "  <thead>\n",
       "    <tr style=\"text-align: right;\">\n",
       "      <th></th>\n",
       "      <th>a</th>\n",
       "    </tr>\n",
       "  </thead>\n",
       "  <tbody>\n",
       "    <tr>\n",
       "      <th>0</th>\n",
       "      <td>-xd1aAlPXqs after you 've done at least six to...</td>\n",
       "    </tr>\n",
       "    <tr>\n",
       "      <th>1</th>\n",
       "      <td>KtMjOT6fDrw on behalf of expert village , my n...</td>\n",
       "    </tr>\n",
       "    <tr>\n",
       "      <th>2</th>\n",
       "      <td>ehbFyYlcEhc hi ! this is david jackel on behal...</td>\n",
       "    </tr>\n",
       "    <tr>\n",
       "      <th>3</th>\n",
       "      <td>lcw8f2od6z8 the other way we can do cucumbers ...</td>\n",
       "    </tr>\n",
       "    <tr>\n",
       "      <th>4</th>\n",
       "      <td>G-VRHmkiqtc my name is anthony maddaloni and i...</td>\n",
       "    </tr>\n",
       "  </tbody>\n",
       "</table>\n",
       "</div>"
      ],
      "text/plain": [
       "                                                   a\n",
       "0  -xd1aAlPXqs after you 've done at least six to...\n",
       "1  KtMjOT6fDrw on behalf of expert village , my n...\n",
       "2  ehbFyYlcEhc hi ! this is david jackel on behal...\n",
       "3  lcw8f2od6z8 the other way we can do cucumbers ...\n",
       "4  G-VRHmkiqtc my name is anthony maddaloni and i..."
      ]
     },
     "execution_count": 2,
     "metadata": {},
     "output_type": "execute_result"
    }
   ],
   "source": [
    "# Load the test dataset into a pandas data frame\n",
    "# Load the descriptions into a pandas data frame\n",
    "# Load the transcriptions into into a pandas data frame \n",
    "desctable = pd.read_csv('speech_data/text/sum_cv/desc.tok.txt', header=None, skipinitialspace=True, names=[\"a\"])\n",
    "desctable.head()\n",
    "filename = 'speech_data/text/sum_cv/tran.tok.txt'\n",
    "with open(filename, 'r') as f:\n",
    "    data = f.read().replace('\\n','%%%')\n",
    "trantable = pd.read_csv(pd.compat.StringIO(data), sep=\"%%%\", header=None)\n",
    "trantable = trantable.T\n",
    "trantable.drop(trantable.tail(1).index,inplace=True)\n",
    "trantable.columns=['a']"
   ]
  },
  {
   "cell_type": "code",
   "execution_count": 3,
   "metadata": {},
   "outputs": [
    {
     "data": {
      "text/html": [
       "<div>\n",
       "<style scoped>\n",
       "    .dataframe tbody tr th:only-of-type {\n",
       "        vertical-align: middle;\n",
       "    }\n",
       "\n",
       "    .dataframe tbody tr th {\n",
       "        vertical-align: top;\n",
       "    }\n",
       "\n",
       "    .dataframe thead th {\n",
       "        text-align: right;\n",
       "    }\n",
       "</style>\n",
       "<table border=\"1\" class=\"dataframe\">\n",
       "  <thead>\n",
       "    <tr style=\"text-align: right;\">\n",
       "      <th></th>\n",
       "      <th>id</th>\n",
       "      <th>desc</th>\n",
       "    </tr>\n",
       "  </thead>\n",
       "  <tbody>\n",
       "    <tr>\n",
       "      <th>0</th>\n",
       "      <td>-xd1aAlPXqs</td>\n",
       "      <td>learn the sivananda yoga single right leg rais...</td>\n",
       "    </tr>\n",
       "    <tr>\n",
       "      <th>1</th>\n",
       "      <td>KtMjOT6fDrw</td>\n",
       "      <td>learn how to apply hanger hooks for your woodc...</td>\n",
       "    </tr>\n",
       "    <tr>\n",
       "      <th>2</th>\n",
       "      <td>ehbFyYlcEhc</td>\n",
       "      <td>learn about how hand washing can help prevent ...</td>\n",
       "    </tr>\n",
       "    <tr>\n",
       "      <th>3</th>\n",
       "      <td>lcw8f2od6z8</td>\n",
       "      <td>how to julienne cucumbers to make kimchi for k...</td>\n",
       "    </tr>\n",
       "    <tr>\n",
       "      <th>4</th>\n",
       "      <td>G-VRHmkiqtc</td>\n",
       "      <td>in order to put photographic emulsion on water...</td>\n",
       "    </tr>\n",
       "  </tbody>\n",
       "</table>\n",
       "</div>"
      ],
      "text/plain": [
       "            id                                               desc\n",
       "0  -xd1aAlPXqs  learn the sivananda yoga single right leg rais...\n",
       "1  KtMjOT6fDrw  learn how to apply hanger hooks for your woodc...\n",
       "2  ehbFyYlcEhc  learn about how hand washing can help prevent ...\n",
       "3  lcw8f2od6z8  how to julienne cucumbers to make kimchi for k...\n",
       "4  G-VRHmkiqtc  in order to put photographic emulsion on water..."
      ]
     },
     "execution_count": 3,
     "metadata": {},
     "output_type": "execute_result"
    }
   ],
   "source": [
    "# Split id and description\n",
    "desctable['id'] = desctable.apply(lambda row: str(row.a).split(\" \")[0], axis = 1) \n",
    "desctable['desc'] = desctable.apply(lambda row: ' '.join(str(row.a).split(\" \")[1:]), axis = 1) \n",
    "desctable.drop('a',1,inplace=True)"
   ]
  },
  {
   "cell_type": "code",
   "execution_count": 4,
   "metadata": {},
   "outputs": [
    {
     "data": {
      "text/html": [
       "<div>\n",
       "<style scoped>\n",
       "    .dataframe tbody tr th:only-of-type {\n",
       "        vertical-align: middle;\n",
       "    }\n",
       "\n",
       "    .dataframe tbody tr th {\n",
       "        vertical-align: top;\n",
       "    }\n",
       "\n",
       "    .dataframe thead th {\n",
       "        text-align: right;\n",
       "    }\n",
       "</style>\n",
       "<table border=\"1\" class=\"dataframe\">\n",
       "  <thead>\n",
       "    <tr style=\"text-align: right;\">\n",
       "      <th></th>\n",
       "      <th>id</th>\n",
       "      <th>tran</th>\n",
       "    </tr>\n",
       "  </thead>\n",
       "  <tbody>\n",
       "    <tr>\n",
       "      <th>0</th>\n",
       "      <td>-xd1aAlPXqs</td>\n",
       "      <td>after you 've done at least six to twelve roun...</td>\n",
       "    </tr>\n",
       "    <tr>\n",
       "      <th>1</th>\n",
       "      <td>KtMjOT6fDrw</td>\n",
       "      <td>on behalf of expert village , my name is husai...</td>\n",
       "    </tr>\n",
       "    <tr>\n",
       "      <th>2</th>\n",
       "      <td>ehbFyYlcEhc</td>\n",
       "      <td>hi ! this is david jackel on behalf of expert ...</td>\n",
       "    </tr>\n",
       "    <tr>\n",
       "      <th>3</th>\n",
       "      <td>lcw8f2od6z8</td>\n",
       "      <td>the other way we can do cucumbers which is als...</td>\n",
       "    </tr>\n",
       "    <tr>\n",
       "      <th>4</th>\n",
       "      <td>G-VRHmkiqtc</td>\n",
       "      <td>my name is anthony maddaloni and i 'm going to...</td>\n",
       "    </tr>\n",
       "  </tbody>\n",
       "</table>\n",
       "</div>"
      ],
      "text/plain": [
       "            id                                               tran\n",
       "0  -xd1aAlPXqs  after you 've done at least six to twelve roun...\n",
       "1  KtMjOT6fDrw  on behalf of expert village , my name is husai...\n",
       "2  ehbFyYlcEhc  hi ! this is david jackel on behalf of expert ...\n",
       "3  lcw8f2od6z8  the other way we can do cucumbers which is als...\n",
       "4  G-VRHmkiqtc  my name is anthony maddaloni and i 'm going to..."
      ]
     },
     "execution_count": 4,
     "metadata": {},
     "output_type": "execute_result"
    }
   ],
   "source": [
    "# Split id and transcription\n",
    "trantable['id'] = trantable.apply(lambda row: row.a.split(\" \")[0], axis = 1) \n",
    "trantable['tran'] = trantable.apply(lambda row: ' '.join(row.a.split(\" \")[1:]), axis = 1) \n",
    "trantable.drop('a',1,inplace=True)"
   ]
  },
  {
   "cell_type": "code",
   "execution_count": 5,
   "metadata": {},
   "outputs": [],
   "source": [
    "# Join tables on ID to create a single table \n",
    "conctable = pd.merge(desctable,trantable,on=\"id\")\n",
    "conctable.head()"
   ]
  },
  {
   "cell_type": "code",
   "execution_count": 115,
   "metadata": {},
   "outputs": [],
   "source": [
    "# Install dependencies to get audio from YouTube\n",
    "!pip -q install wget youtube-dl wget "
   ]
  },
  {
   "cell_type": "code",
   "execution_count": 7,
   "metadata": {},
   "outputs": [],
   "source": [
    "# Take the first 400 YouTube video IDs\n",
    "youtube_ids = conctable['id'].tolist()\n",
    "shortlist = youtube_ids[:400]"
   ]
  },
  {
   "cell_type": "code",
   "execution_count": 9,
   "metadata": {},
   "outputs": [
    {
     "name": "stdout",
     "output_type": "stream",
     "text": [
      "rm: illegal option -- k\n",
      "usage: rm [-f | -i] [-dPRrvW] file ...\n",
      "       unlink file\n",
      "rm: illegal option -- T\n",
      "usage: rm [-f | -i] [-dPRrvW] file ...\n",
      "       unlink file\n",
      "rm: illegal option -- 0\n",
      "usage: rm [-f | -i] [-dPRrvW] file ...\n",
      "       unlink file\n",
      "rm: illegal option -- N\n",
      "usage: rm [-f | -i] [-dPRrvW] file ...\n",
      "       unlink file\n"
     ]
    }
   ],
   "source": [
    "# Loop over the 400 YouTube videos\n",
    "# Save each video's audio as 8000Hz wav\n",
    "for YOUTUBE_ID in shortlist:\n",
    "    !youtube-dl --extract-audio --audio-format wav --quiet --output \"{YOUTUBE_ID}_FULL.%(ext)s\" https://www.youtube.com/watch\\?v\\={YOUTUBE_ID}\n",
    "    !ffmpeg -loglevel panic -y -i {YOUTUBE_ID}_FULL.wav -acodec pcm_s16le -ac 1 -ar 8000 {YOUTUBE_ID}.wav\n",
    "    !rm {YOUTUBE_ID}_FULL.wav"
   ]
  },
  {
   "cell_type": "markdown",
   "metadata": {},
   "source": [
    "## Data exploration and statistics"
   ]
  },
  {
   "cell_type": "code",
   "execution_count": 109,
   "metadata": {},
   "outputs": [],
   "source": [
    "exploretable = conctable.head(400)"
   ]
  },
  {
   "cell_type": "code",
   "execution_count": 186,
   "metadata": {},
   "outputs": [],
   "source": [
    "def sub_lists(list1): \n",
    "  \n",
    "    # store all the sublists  \n",
    "    sublist = [[]] \n",
    "      \n",
    "    # first loop  \n",
    "    for i in range(len(list1) + 1): \n",
    "          \n",
    "        # second loop  \n",
    "        for j in range(i + 1, len(list1) + 1): \n",
    "              \n",
    "            # slice the subarray  \n",
    "            sub = list1[i:j] \n",
    "            sublist.append(sub) \n",
    "    return sublist\n",
    "\n",
    "def is_subsequence(needle, haystack):\n",
    "    return any(\n",
    "        haystack[i:i+len(needle)] == needle\n",
    "        for i in range(len(haystack) - len(needle) + 1)\n",
    "    )"
   ]
  },
  {
   "cell_type": "code",
   "execution_count": 192,
   "metadata": {},
   "outputs": [
    {
     "name": "stdout",
     "output_type": "stream",
     "text": [
      "['learn', 'about', 'how']\n",
      "['hi', '!', 'this', 'is', 'david', 'jackel', 'on', 'behalf', 'of', 'expert', 'village', 'and', 'i', \"'m\", 'here', 'to', 'talk', 'to', 'you', 'about', 'washing', 'your', 'hands', 'to', 'prevent', 'a', 'cold', '.', 'now', 'hand', 'washing', 'is', 'actually', 'one', 'of', 'the', 'best', 'ways', 'to', 'prevent', 'catching', 'a', 'cold', '.', 'the', 'germs', 'that', 'you', 'would', 'catch', ',', 'travel', 'through', 'your', 'hands', 'onto', 'other', 'parts', 'of', 'your', 'body', ',', 'specifically', 'your', 'face', '.', 'most', 'colds', 'come', 'from', 'direct', 'contact', 'that', 'you', \"'re\", 'having', 'with', 'somebody', 'else', 'who', 'has', 'the', 'virus', '.', 'often', 'times', 'that', \"'s\", 'like', 'shaking', 'hands', 'with', 'somebody', ',', 'being', 'in', 'close', 'quarters', ',', 'hugging', ',', 'touching', ',', 'anything', 'when', 'you', \"'re\", 'close', 'with', 'somebody', 'else', ',', 'sharing', 'things', ',', 'touching', 'the', 'same', 'glass', ',', 'touching', 'the', 'same', 'silverware', ',', 'touching', 'the', 'same', 'food', ',', 'stuff', 'like', 'that', '.', 'so', 'what', 'you', 'should', 'do', 'is', 'constantly', 'be', 'washing', 'your', 'hands', ',', 'especially', 'if', 'you', \"'re\", 'traveling', 'or', 'if', 'you', \"'re\", 'in', 'close', 'quarters', 'with', 'people', 'or', 'you', \"'re\", 'exposed', 'to', 'someone', 'who', 'might', 'be', 'sick', '.', 'always', 'be', 'washing', 'your', 'hands', 'and', 'do', 'it', 'with', 'warm', 'water', 'and', 'soap', ',', 'wash', 'vigorously', 'for', 'at', 'least', '20', 'seconds', 'to', 'make', 'sure', 'you', 'loosen', 'up', 'all', 'the', 'germs', '.', 'now', ',', 'you', 'wo', \"n't\", 'always', 'have', 'access', 'to', 'warm', 'water', 'and', 'soap', ',', 'so', 'what', 'you', 'should', 'do', 'is', 'carry', 'hand', 'sanitizer', '.', 'i', 'always', 'keep', 'some', 'hand', 'sanitizer', 'with', 'me', ',', 'in', 'my', 'car', ',', 'in', 'a', 'bag', 'with', 'me', 'if', 'i', \"'m\", 'traveling', 'and', 'this', 'is', 'something', 'you', 'can', 'take', 'out', 'whenever', 'you', 'need', 'to', 'and', 'just', 'put', 'a', 'little', 'bit', 'of', 'on', 'your', 'hands', '.', 'if', 'you', \"'re\", 'shaking', 'hands', 'with', 'people', 'at', 'a', 'public', 'event', ',', 'you', 'do', \"n't\", 'know', 'who', 'is', 'sick', 'or', 'who', 'is', 'shaking', 'hands', 'with', 'someone', 'else', 'who', 'is', 'sick', '.', 'it', \"'s\", 'really', 'not', 'worth', 'getting', 'sick', ',', 'so', 'use', 'some', 'hand', 'sanitizer', '.', 'the', 'important', 'thing', 'to', 'remember', 'is', 'that', 'hands', 'are', 'a', 'vessel', 'through', 'which', 'germs', 'can', 'reach', 'your', 'body', ',', 'so', 'always', 'keep', 'your', 'hands', 'as', 'frequently', 'as', 'possible', '.', 'also', ',', 'always', 'wash', 'your', 'hands', 'before', 'eating', 'and', 'before', 'touching', 'your', 'face', '.']\n"
     ]
    }
   ],
   "source": [
    "# for row in exploretable.iterrows():\n",
    "#     data = row[1]\n",
    "#     print(data.id)\n",
    "descbak = exploretable.iloc[2].desc.split(\" \")\n",
    "desc = exploretable.iloc[2].desc.split(\" \")\n",
    "tran = exploretable.iloc[2].tran.split(\" \")\n",
    "matches = list(matcher(desc,tran))\n",
    "\n",
    "subs = sub_lists(desc)\n",
    "print(subs[3])\n",
    "print(tran)\n",
    "for sub in subs:\n",
    "    if (desc.count(sub)>0):\n",
    "        print(desc.count(sub))"
   ]
  },
  {
   "cell_type": "code",
   "execution_count": 162,
   "metadata": {},
   "outputs": [
    {
     "data": {
      "text/plain": [
       "['learn',\n",
       " 'about',\n",
       " 'how',\n",
       " 'hand',\n",
       " 'washing',\n",
       " 'can',\n",
       " 'help',\n",
       " 'prevent',\n",
       " 'you',\n",
       " 'from',\n",
       " 'catching',\n",
       " 'a',\n",
       " 'cold',\n",
       " 'in',\n",
       " 'this',\n",
       " 'free',\n",
       " 'health',\n",
       " 'video',\n",
       " 'series',\n",
       " '.']"
      ]
     },
     "execution_count": 162,
     "metadata": {},
     "output_type": "execute_result"
    }
   ],
   "source": [
    "descbak"
   ]
  },
  {
   "cell_type": "code",
   "execution_count": null,
   "metadata": {},
   "outputs": [],
   "source": []
  }
 ],
 "metadata": {
  "kernelspec": {
   "display_name": "Python 3",
   "language": "python",
   "name": "python3"
  },
  "language_info": {
   "codemirror_mode": {
    "name": "ipython",
    "version": 3
   },
   "file_extension": ".py",
   "mimetype": "text/x-python",
   "name": "python",
   "nbconvert_exporter": "python",
   "pygments_lexer": "ipython3",
   "version": "3.7.4"
  }
 },
 "nbformat": 4,
 "nbformat_minor": 2
}
