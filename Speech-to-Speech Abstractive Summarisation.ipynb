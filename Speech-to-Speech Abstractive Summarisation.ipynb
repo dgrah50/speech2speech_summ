{
 "cells": [
  {
   "cell_type": "markdown",
   "metadata": {},
   "source": [
    "# Speech-to-Speech Abstractive Summarisation\n",
    "\n",
    "In this project we are Using How2 Dataset [link](https://srvk.github.io/how2-dataset/) which is a collection of instructional YouTube videos with English subtitles IDs and human-made summaries. This project is concerned with the transformation of audio to audio and as such, the audio has been ripped from the videos.\n",
    "\n",
    "* Task 1a) Construct databases of video transcriptions and human made descriptions\n",
    "* Task 1b) Download audios of 400 videos\n",
    "* Task 1c) Align transcriptions to the audios \n",
    "* Task 1d) Sequence Labelling and Feature Significance"
   ]
  },
  {
   "cell_type": "markdown",
   "metadata": {},
   "source": [
    "### Task 1a) Construct databases of video transcriptions and human made descriptions"
   ]
  },
  {
   "cell_type": "code",
   "execution_count": 9,
   "metadata": {},
   "outputs": [
    {
     "name": "stderr",
     "output_type": "stream",
     "text": [
      "/Users/dayangraham/opt/anaconda3/envs/FYPenv/lib/python3.7/site-packages/ipykernel_launcher.py:11: ParserWarning: Falling back to the 'python' engine because the 'c' engine does not support regex separators (separators > 1 char and different from '\\s+' are interpreted as regex); you can avoid this warning by specifying engine='python'.\n",
      "  # This is added back by InteractiveShellApp.init_path()\n"
     ]
    }
   ],
   "source": [
    "# Load the test dataset into a pandas data frame\n",
    "import pandas as pd\n",
    "# Load the descriptions into a pandas data frame\n",
    "desctable = pd.read_csv('speech_data/text/sum_cv/desc.tok.txt', header=None, skipinitialspace=True, names=[\"a\"])\n",
    "desctable.head()\n",
    "filename = 'speech_data/text/sum_cv/tran.tok.txt'\n",
    "with open(filename, 'r') as f:\n",
    "    data = f.read().replace('\\n','%%%')\n",
    "    \n",
    "# Load the transcriptions into into a pandas data frame \n",
    "trantable = pd.read_csv(pd.compat.StringIO(data), sep=\"%%%\", header=None)\n",
    "trantable = trantable.T\n",
    "trantable.drop(trantable.tail(1).index,inplace=True)\n",
    "trantable.columns=['a']"
   ]
  },
  {
   "cell_type": "code",
   "execution_count": 10,
   "metadata": {},
   "outputs": [
    {
     "data": {
      "text/html": [
       "<div>\n",
       "<style scoped>\n",
       "    .dataframe tbody tr th:only-of-type {\n",
       "        vertical-align: middle;\n",
       "    }\n",
       "\n",
       "    .dataframe tbody tr th {\n",
       "        vertical-align: top;\n",
       "    }\n",
       "\n",
       "    .dataframe thead th {\n",
       "        text-align: right;\n",
       "    }\n",
       "</style>\n",
       "<table border=\"1\" class=\"dataframe\">\n",
       "  <thead>\n",
       "    <tr style=\"text-align: right;\">\n",
       "      <th></th>\n",
       "      <th>id</th>\n",
       "      <th>desc</th>\n",
       "      <th>tran</th>\n",
       "    </tr>\n",
       "  </thead>\n",
       "  <tbody>\n",
       "    <tr>\n",
       "      <th>0</th>\n",
       "      <td>-xd1aAlPXqs</td>\n",
       "      <td>learn the sivananda yoga single right leg rais...</td>\n",
       "      <td>after you 've done at least six to twelve roun...</td>\n",
       "    </tr>\n",
       "    <tr>\n",
       "      <th>1</th>\n",
       "      <td>KtMjOT6fDrw</td>\n",
       "      <td>learn how to apply hanger hooks for your woodc...</td>\n",
       "      <td>on behalf of expert village , my name is husai...</td>\n",
       "    </tr>\n",
       "    <tr>\n",
       "      <th>2</th>\n",
       "      <td>ehbFyYlcEhc</td>\n",
       "      <td>learn about how hand washing can help prevent ...</td>\n",
       "      <td>hi ! this is david jackel on behalf of expert ...</td>\n",
       "    </tr>\n",
       "    <tr>\n",
       "      <th>3</th>\n",
       "      <td>lcw8f2od6z8</td>\n",
       "      <td>how to julienne cucumbers to make kimchi for k...</td>\n",
       "      <td>the other way we can do cucumbers which is als...</td>\n",
       "    </tr>\n",
       "    <tr>\n",
       "      <th>4</th>\n",
       "      <td>G-VRHmkiqtc</td>\n",
       "      <td>in order to put photographic emulsion on water...</td>\n",
       "      <td>my name is anthony maddaloni and i 'm going to...</td>\n",
       "    </tr>\n",
       "  </tbody>\n",
       "</table>\n",
       "</div>"
      ],
      "text/plain": [
       "            id                                               desc  \\\n",
       "0  -xd1aAlPXqs  learn the sivananda yoga single right leg rais...   \n",
       "1  KtMjOT6fDrw  learn how to apply hanger hooks for your woodc...   \n",
       "2  ehbFyYlcEhc  learn about how hand washing can help prevent ...   \n",
       "3  lcw8f2od6z8  how to julienne cucumbers to make kimchi for k...   \n",
       "4  G-VRHmkiqtc  in order to put photographic emulsion on water...   \n",
       "\n",
       "                                                tran  \n",
       "0  after you 've done at least six to twelve roun...  \n",
       "1  on behalf of expert village , my name is husai...  \n",
       "2  hi ! this is david jackel on behalf of expert ...  \n",
       "3  the other way we can do cucumbers which is als...  \n",
       "4  my name is anthony maddaloni and i 'm going to...  "
      ]
     },
     "execution_count": 10,
     "metadata": {},
     "output_type": "execute_result"
    }
   ],
   "source": [
    "# Split id and description\n",
    "desctable['id'] = desctable.apply(lambda row: str(row.a).split(\" \")[0], axis = 1) \n",
    "desctable['desc'] = desctable.apply(lambda row: ' '.join(str(row.a).split(\" \")[1:]), axis = 1) \n",
    "desctable.drop('a',1,inplace=True)\n",
    "# Split id and transcription\n",
    "trantable['id'] = trantable.apply(lambda row: row.a.split(\" \")[0], axis = 1) \n",
    "trantable['tran'] = trantable.apply(lambda row: ' '.join(row.a.split(\" \")[1:]), axis = 1) \n",
    "trantable.drop('a',1,inplace=True)\n",
    "\n",
    "# Join tables on ID to create a single table \n",
    "conctable = pd.merge(desctable,trantable,on=\"id\")\n",
    "conctable.head()"
   ]
  },
  {
   "cell_type": "markdown",
   "metadata": {},
   "source": [
    "### Task 1b) Download audios of 400 videos"
   ]
  },
  {
   "cell_type": "code",
   "execution_count": 7,
   "metadata": {},
   "outputs": [],
   "source": [
    "# # Install dependencies to get audio from YouTube\n",
    "# !pip -q install wget youtube-dl wget "
   ]
  },
  {
   "cell_type": "code",
   "execution_count": null,
   "metadata": {},
   "outputs": [],
   "source": [
    "# # Loop over the 400 YouTube videos\n",
    "# # Save each video's audio as 8000Hz wav\n",
    "# for YOUTUBE_ID in shortlist:\n",
    "#     !youtube-dl --extract-audio --audio-format wav --quiet --output \"{YOUTUBE_ID}_FULL.%(ext)s\" https://www.youtube.com/watch\\?v\\={YOUTUBE_ID}\n",
    "#     !ffmpeg -loglevel panic -y -i {YOUTUBE_ID}_FULL.wav -acodec pcm_s16le -ac 1 -ar 8000 {YOUTUBE_ID}.wav\n",
    "#     !rm {YOUTUBE_ID}_FULL.wav"
   ]
  },
  {
   "cell_type": "code",
   "execution_count": null,
   "metadata": {},
   "outputs": [],
   "source": [
    "# # Take the first 400 YouTube video IDs\n",
    "# youtube_ids = conctable['id'].tolist()\n",
    "# shortlist = youtube_ids[:400]"
   ]
  },
  {
   "cell_type": "code",
   "execution_count": 11,
   "metadata": {},
   "outputs": [],
   "source": [
    "exploretable = conctable"
   ]
  },
  {
   "cell_type": "code",
   "execution_count": 12,
   "metadata": {},
   "outputs": [],
   "source": [
    "exploretable.loc[:,'intersection'] = exploretable.apply(lambda row: [value for value in row.desc.split(\" \") if value in row.tran.split(\" \")] , axis=1)\n",
    "exploretable.loc[:,'descnottran'] = exploretable.apply(lambda row: [value for value in row.desc.split(\" \") if value not in row.tran.split(\" \")] , axis=1)"
   ]
  },
  {
   "cell_type": "code",
   "execution_count": 13,
   "metadata": {},
   "outputs": [],
   "source": [
    "# Calculate ROUGE statistics for the video descriptions and the video transcriptions\n",
    "from rouge import Rouge \n",
    "rouge = Rouge()\n",
    "exploretable['rouge1-f'] = exploretable.apply(lambda row:  rouge.get_scores(row.desc, row.tran)[0]['rouge-1']['f'], axis=1)\n",
    "exploretable['rouge1-r'] = exploretable.apply(lambda row:  rouge.get_scores(row.desc, row.tran)[0]['rouge-1']['r'], axis=1)\n",
    "exploretable['rouge1-p'] = exploretable.apply(lambda row:  rouge.get_scores(row.desc, row.tran)[0]['rouge-1']['p'], axis=1)\n",
    "exploretable['rouge2-f'] = exploretable.apply(lambda row:  rouge.get_scores(row.desc, row.tran)[0]['rouge-2']['f'], axis=1)\n",
    "exploretable['rouge2-r'] = exploretable.apply(lambda row:  rouge.get_scores(row.desc, row.tran)[0]['rouge-2']['r'], axis=1)\n",
    "exploretable['rouge2-p'] = exploretable.apply(lambda row:  rouge.get_scores(row.desc, row.tran)[0]['rouge-2']['p'], axis=1)\n",
    "exploretable['rougel-f'] = exploretable.apply(lambda row:  rouge.get_scores(row.desc, row.tran)[0]['rouge-l']['f'], axis=1)\n",
    "exploretable['rougel-r'] = exploretable.apply(lambda row:  rouge.get_scores(row.desc, row.tran)[0]['rouge-l']['r'], axis=1)\n",
    "exploretable['rougel-p'] = exploretable.apply(lambda row:  rouge.get_scores(row.desc, row.tran)[0]['rouge-l']['p'], axis=1)"
   ]
  },
  {
   "cell_type": "code",
   "execution_count": 17,
   "metadata": {},
   "outputs": [],
   "source": [
    "import os\n",
    "from os.path import isfile, join\n",
    "exploretable['downloaded'] = exploretable.apply(lambda row: os.path.isfile(f'./speech_audios/{row.id}.wav'), axis=1)"
   ]
  },
  {
   "cell_type": "code",
   "execution_count": 63,
   "metadata": {},
   "outputs": [],
   "source": [
    "from datetime import datetime\n",
    "dt_string = datetime.now().strftime(\"%d%m%Y\")\n",
    "exploretable.to_pickle(f'./exploretable{dt_string}.pkl')"
   ]
  },
  {
   "cell_type": "markdown",
   "metadata": {},
   "source": [
    "### Task 1c) Align transcriptions to the audios"
   ]
  },
  {
   "cell_type": "code",
   "execution_count": 13,
   "metadata": {},
   "outputs": [],
   "source": [
    "# Alignment of transcription to audio\n",
    "\n",
    "# Define imports for Kaldi Alignment\n",
    "from kaldi.alignment import NnetAligner\n",
    "from kaldi.fstext import SymbolTable\n",
    "from kaldi.lat.align import WordBoundaryInfoNewOpts, WordBoundaryInfo\n",
    "from kaldi.nnet3 import NnetSimpleComputationOptions\n",
    "from kaldi.util.table import SequentialMatrixReader\n",
    "import string"
   ]
  },
  {
   "cell_type": "code",
   "execution_count": 150,
   "metadata": {},
   "outputs": [],
   "source": [
    "def aspire_alignment():\n",
    "    # Construct aligner\n",
    "    decodable_opts = NnetSimpleComputationOptions()\n",
    "    decodable_opts.acoustic_scale = 1.0\n",
    "    decodable_opts.frames_per_chunk = 150\n",
    "    aligner = NnetAligner.from_files(\n",
    "        \"exp/tdnn_7b_chain_online/final.mdl\",\n",
    "        \"exp/tdnn_7b_chain_online/tree\",\n",
    "        \"data/lang/L.fst\",\n",
    "        \"data/lang/words.txt\",\n",
    "        \"data/lang/phones/disambig.int\",\n",
    "        decodable_opts=decodable_opts)\n",
    "    phones = SymbolTable.read_text(\"data/lang/phones.txt\")\n",
    "    wb_info = WordBoundaryInfo.from_file(WordBoundaryInfoNewOpts(),\n",
    "                                         \"data/lang/phones/word_boundary.int\")\n",
    "\n",
    "    # Define feature pipelines as Kaldi rspecifiers\n",
    "    feats_rspec = (\n",
    "        \"ark:compute-mfcc-feats --config=conf/mfcc_hires.conf scp:data/test/wav.scp ark:- |\"\n",
    "    )\n",
    "    ivectors_rspec = (\n",
    "        \"ark:compute-mfcc-feats --config=conf/mfcc_hires.conf scp:data/test/wav.scp ark:- |\"\n",
    "        \"ivector-extract-online2 --config=conf/ivector_extractor.conf ark:data/test/spk2utt ark:- ark:- |\"\n",
    "    )\n",
    "\n",
    "    alignments=[]\n",
    "    # Align wav files\n",
    "    with SequentialMatrixReader(feats_rspec) as f, \\\n",
    "         SequentialMatrixReader(ivectors_rspec) as i, \\\n",
    "         open(\"data/test/text\",\"r\") as t:\n",
    "        for (fkey, feats), (ikey, ivectors), line in zip(f, i, t):\n",
    "            tkey, text = line.strip().split(None, 1)\n",
    "            text = text.translate(str.maketrans('', '', string.punctuation))\n",
    "            assert(fkey == ikey == tkey)\n",
    "            out = aligner.align((feats, ivectors), text)\n",
    "            word_alignment = aligner.to_word_alignment(out[\"best_path\"], wb_info)\n",
    "#             print(tkey)\n",
    "            with open(f'alignments/{tkey}.txt', 'w') as f:\n",
    "                print(f\"{word_alignment}\", file=f)\n",
    "#             alignments.append(word_alignment)\n",
    "#             print(f\"The Input Text: {text}\")\n",
    "#             print(f\"The word alignment: {word_alignment}\")\n",
    "#     return alignments"
   ]
  },
  {
   "cell_type": "markdown",
   "metadata": {},
   "source": [
    "### File structure within the /data folder is as follows :\n",
    "-    /lang\n",
    "-    /test\n",
    "-        spk2utt - maps speakers to utterances? just repeat double unique id eg utt1 utt1\n",
    "-        text - transcription for each utterance on each line \n",
    "-        utt1.wav\n",
    "-        wav.scp"
   ]
  },
  {
   "cell_type": "code",
   "execution_count": 173,
   "metadata": {},
   "outputs": [],
   "source": [
    "def generateAlignmentDeps(table):\n",
    "    downloadtable = table.query('downloaded==True')\n",
    "    tranlist = downloadtable['tran'].tolist()\n",
    "    idlist = downloadtable['id'].tolist()\n",
    "#generate spk2utt \n",
    "    with open(\"data/test/spk2utt\", 'w') as f:\n",
    "        for id in idlist:\n",
    "            print(f\"{id} {id}\", file=f)\n",
    "#generate text \n",
    "    with open(\"data/test/text\", 'w') as f:\n",
    "        for index, id in enumerate(idlist):\n",
    "            tran = tranlist[index]\n",
    "            print(f\"{id} {tran}\", file=f)\n",
    "#generate wav.scp \n",
    "    with open(\"data/test/wav.scp\", 'w') as f:\n",
    "        for id in idlist:\n",
    "            print(f\"{id} speech_audios/{id}.wav\", file=f)\n",
    "\n",
    "generateAlignmentDeps(exploretable)"
   ]
  },
  {
   "cell_type": "code",
   "execution_count": null,
   "metadata": {},
   "outputs": [],
   "source": [
    "# Ensure that you have run alignment_dependencies/path.sh in order to add Kaldi to the PATH\n",
    "\n",
    "#HACKY FIX IMPLEMENTED \n",
    "#IN PyKaldi API, if word not found in symbol table (out of vocabulary) it is set to <unk> or index 16. \n",
    "# The effect of this upon results needs to be discussed\n",
    "aspire_alignment();"
   ]
  },
  {
   "cell_type": "markdown",
   "metadata": {},
   "source": [
    "### Task 1d) Sequence Labelling and Feature Significance\n",
    "\n",
    "WAV file -> N-dimension feature vector\n",
    "*    The WAV file is analysed in 100ms frames\n",
    "*    For each 100ms frame a feature vector is generated containing the following information:\n",
    "*    The min, max, median, mean and range of the pitch (based on 10ms subframes)\n",
    "*    The min, max, median, mean and range of the energy (based on 10ms subframes)\n",
    "*    Mel Cepstral Coefficients + 1st and 2nd derivatives\n",
    "\n",
    "Frame * 100\n",
    "Utterance Length stays the same\n",
    "Alignment * 10\n"
   ]
  },
  {
   "cell_type": "code",
   "execution_count": null,
   "metadata": {},
   "outputs": [],
   "source": [
    "from pydub import AudioSegment\n",
    "from pydub.playback import play\n",
    "def playback(play_original, word_spacing,buffer,ID):\n",
    "    originalutterance = AudioSegment.from_wav(f'./speech_audios/{ID}.wav')\n",
    "    silence = AudioSegment.silent(duration=word_spacing)\n",
    "    if play_original:\n",
    "        play(originalutterance)\n",
    "    for word in word_alignment:\n",
    "        if (word[0] != '<eps>'):\n",
    "            start_time = word[1]*10-buffer\n",
    "            end_time = start_time + word[2]*10+buffer\n",
    "            print(word[0])\n",
    "            snippet = originalutterance[start_time:end_time]\n",
    "            padded_snippet = silence.append(snippet.append(silence, crossfade=word_spacing/2),crossfade=word_spacing/2)\n",
    "            play(padded_snippet)"
   ]
  },
  {
   "cell_type": "code",
   "execution_count": 18,
   "metadata": {},
   "outputs": [],
   "source": [
    "from os import listdir\n",
    "from os.path import isfile, join\n",
    "matfiles = [file for file in listdir(\"./acoustic_feats_170520/\") if file.endswith('.mat')]"
   ]
  },
  {
   "cell_type": "code",
   "execution_count": 92,
   "metadata": {},
   "outputs": [],
   "source": [
    "from sklearn import preprocessing\n",
    "from pydub import AudioSegment\n",
    "import scipy.io\n",
    "import numpy as np\n",
    "from stop_words import get_stop_words\n",
    "stop_words = get_stop_words('en')\n",
    "\n",
    "FEATUREPATH = \"./acoustic_feats_170520/\"\n",
    "AUDIOPATH = \"./speech_audios/\"\n",
    "ALIGNMENTPATH = \"alignments/\"\n",
    "\n",
    "positives=[]\n",
    "negatives=[]\n",
    "for matfile in matfiles[:20]:\n",
    "    try:\n",
    "        feats = scipy.io.loadmat(FEATUREPATH+matfile)['ret']\n",
    "        chosenid = matfile.replace(\".mat\",\"\")\n",
    "        audiofile = AudioSegment.from_wav(f'{AUDIOPATH}{chosenid}.wav')\n",
    "        alignment =  eval(open(f'{ALIGNMENTPATH}{chosenid}.txt', \"r\").read())\n",
    "\n",
    "        row = exploretable.query(f'id==\"{chosenid}\"')\n",
    "        description = set(row['desc'].values[0].split(\" \"))\n",
    "        transcription = set(row['tran'].values[0].split(\" \"))\n",
    "        intersection = description&transcription\n",
    "\n",
    "        importantwords = list(filter(lambda x: x[0] in intersection and x[0] not in stop_words, alignment))\n",
    "\n",
    "        impidx = []\n",
    "        for imp in importantwords:\n",
    "            start = (imp[1]- (imp[1]%10))//10 \n",
    "            gap =  round((imp[2]/10- (imp[2]%1)))\n",
    "            end = start + gap\n",
    "            idx = list(range(start,end))\n",
    "            impidx.extend(idx)\n",
    "        positiveframes=feats[impidx]\n",
    "        negativeframes=np.delete(feats, impidx,axis=0)\n",
    "        positives.extend(positiveframes)\n",
    "        negatives.extend(negativeframes)\n",
    "    except:\n",
    "        pass\n",
    "\n",
    "positives =  np.asarray(positives)\n",
    "negatives =  np.asarray(negatives)\n",
    "data = np.concatenate((positives, negatives))\n",
    "data = preprocessing.scale(data)\n",
    "labels = [1]*len(positives) + [0]*len(negatives)"
   ]
  },
  {
   "cell_type": "code",
   "execution_count": 133,
   "metadata": {},
   "outputs": [
    {
     "name": "stdout",
     "output_type": "stream",
     "text": [
      "The length of y_test is 4796\n",
      "The 1s in  Y_pred are (array([0, 1]), array([4738,   58]))\n",
      "The 1s in  y_test are (array([0, 1]), array([4669,  127]))\n",
      "(0.6349434506047946, 0.5625384720463166, 0.5838659537607129, None)\n"
     ]
    }
   ],
   "source": [
    "from sklearn import svm\n",
    "from sklearn.model_selection import train_test_split\n",
    "\n",
    "X_train, X_test, y_train, y_test = train_test_split(data, labels, test_size=0.25, random_state=123)\n",
    "from sklearn import svm\n",
    "from sklearn.metrics import precision_recall_fscore_support\n",
    "\n",
    "\n",
    "#Create a svm Classifier\n",
    "clf = svm.SVC(class_weight={1: 10}) \n",
    "\n",
    "#Train the model using the training sets\n",
    "clf.fit(X_train, y_train)\n",
    "\n",
    "#Predict the response for test dataset\n",
    "clf.score(X_test,y_test)\n",
    "\n",
    "Y_pred = clf.predict(X_test)\n",
    "print(f\"The length of y_test is {len(y_test)}\")\n",
    "print(f\"The 1s in  Y_pred are {np.unique(Y_pred, return_counts=True)}\")\n",
    "print(f\"The 1s in  y_test are {np.unique(y_test, return_counts=True)}\")\n",
    "print(precision_recall_fscore_support(y_test, Y_pred, average='macro'))"
   ]
  },
  {
   "cell_type": "code",
   "execution_count": 107,
   "metadata": {},
   "outputs": [
    {
     "name": "stdout",
     "output_type": "stream",
     "text": [
      "The length of y_test is 4796\n",
      "The 1s in  Y_pred are (array([0, 1]), array([4509,  287]))\n",
      "The 1s in  y_test are (array([0, 1]), array([4669,  127]))\n",
      "(0.5174188981695919, 0.538015019486882, 0.5203611240068932, None)\n"
     ]
    }
   ],
   "source": [
    "from sklearn.linear_model import LogisticRegression\n",
    "logi = LogisticRegression(random_state=0,class_weight={1: 16}).fit(X_train, y_train)\n",
    "res = logi.predict(X_test)\n",
    "print(f\"The length of y_test is {len(y_test)}\")\n",
    "print(f\"The 1s in  Y_pred are {np.unique(res, return_counts=True)}\")\n",
    "print(f\"The 1s in  y_test are {np.unique(y_test, return_counts=True)}\")\n",
    "print(precision_recall_fscore_support(y_test, res, average='macro'))"
   ]
  },
  {
   "cell_type": "code",
   "execution_count": 109,
   "metadata": {},
   "outputs": [
    {
     "name": "stdout",
     "output_type": "stream",
     "text": [
      "The length of y_test is 4796\n",
      "The 1s in  Y_pred are (array([0, 1]), array([4731,   65]))\n",
      "The 1s in  y_test are (array([0, 1]), array([4669,  127]))\n",
      "(0.6035477944165325, 0.5537006524859055, 0.5695079787234043, None)\n"
     ]
    }
   ],
   "source": [
    "from sklearn.ensemble import RandomForestClassifier\n",
    "rf=RandomForestClassifier(n_estimators=100)\n",
    "rf.fit(X_train,y_train)\n",
    "rf_pred=clf.predict(X_test)\n",
    "print(f\"The length of y_test is {len(y_test)}\")\n",
    "print(f\"The 1s in  Y_pred are {np.unique(rf_pred, return_counts=True)}\")\n",
    "print(f\"The 1s in  y_test are {np.unique(y_test, return_counts=True)}\")\n",
    "print(precision_recall_fscore_support(y_test, rf_pred, average='macro'))"
   ]
  },
  {
   "cell_type": "code",
   "execution_count": 111,
   "metadata": {},
   "outputs": [],
   "source": [
    "feature_imp = pd.Series(rf.feature_importances_).sort_values(ascending=False)"
   ]
  },
  {
   "cell_type": "code",
   "execution_count": 117,
   "metadata": {},
   "outputs": [
    {
     "data": {
      "text/plain": [
       "10    0.030916\n",
       "16    0.029299\n",
       "12    0.028069\n",
       "13    0.027207\n",
       "25    0.025781\n",
       "41    0.025079\n",
       "34    0.025000\n",
       "18    0.024783\n",
       "32    0.024633\n",
       "9     0.024064\n",
       "33    0.023920\n",
       "8     0.023485\n",
       "6     0.023427\n",
       "5     0.023427\n",
       "40    0.023235\n",
       "36    0.022746\n",
       "31    0.022599\n",
       "42    0.022571\n",
       "15    0.022464\n",
       "11    0.022453\n",
       "30    0.022394\n",
       "27    0.022161\n",
       "19    0.021830\n",
       "21    0.021767\n",
       "29    0.021633\n",
       "43    0.021362\n",
       "44    0.021317\n",
       "24    0.021177\n",
       "38    0.021062\n",
       "35    0.020888\n",
       "20    0.020804\n",
       "37    0.020755\n",
       "2     0.020683\n",
       "7     0.020278\n",
       "23    0.020206\n",
       "4     0.020096\n",
       "14    0.020036\n",
       "39    0.019651\n",
       "17    0.019201\n",
       "3     0.018829\n",
       "28    0.018774\n",
       "22    0.018747\n",
       "1     0.018335\n",
       "26    0.018181\n",
       "0     0.014674\n",
       "dtype: float64"
      ]
     },
     "execution_count": 117,
     "metadata": {},
     "output_type": "execute_result"
    }
   ],
   "source": [
    "feature_imp"
   ]
  },
  {
   "cell_type": "code",
   "execution_count": 123,
   "metadata": {},
   "outputs": [
    {
     "name": "stdout",
     "output_type": "stream",
     "text": [
      "The length of y_test is 4796\n",
      "The 1s in  Y_pred are (array([0, 1]), array([4731,   65]))\n",
      "The 1s in  y_test are (array([0, 1]), array([4669,  127]))\n",
      "(0.6035477944165325, 0.5537006524859055, 0.5695079787234043, None)\n"
     ]
    }
   ],
   "source": [
    "from sklearn.dummy import DummyClassifier\n",
    "dummy_clf = DummyClassifier(strategy=\"constant\",constant=0)\n",
    "dummy_clf.fit(X_train,y_train)\n",
    "dummy_clf_pred=clf.predict(X_test)\n",
    "print(f\"The length of y_test is {len(y_test)}\")\n",
    "print(f\"The 1s in  Y_pred are {np.unique(dummy_clf_pred, return_counts=True)}\")\n",
    "print(f\"The 1s in  y_test are {np.unique(y_test, return_counts=True)}\")\n",
    "print(precision_recall_fscore_support(y_test, dummy_clf_pred, average='macro'))"
   ]
  },
  {
   "cell_type": "code",
   "execution_count": 140,
   "metadata": {},
   "outputs": [
    {
     "name": "stdout",
     "output_type": "stream",
     "text": [
      "('Confusion matrix', None)\n",
      "[[4628   41]\n",
      " [ 110   17]]\n"
     ]
    },
    {
     "data": {
      "image/png": "[encoded data removed]",
      "text/plain": [
       "<Figure size 432x288 with 2 Axes>"
      ]
     },
     "metadata": {
      "needs_background": "light"
     },
     "output_type": "display_data"
    }
   ],
   "source": [
    "from sklearn.metrics import plot_confusion_matrix\n",
    "import matplotlib.pyplot as plt\n",
    "\n",
    "np.set_printoptions(precision=3)\n",
    "\n",
    "# Plot non-normalized confusion matrix\n",
    "titles_options = [(\"Confusion matrix\", None)]\n",
    "for title in titles_options:\n",
    "    disp = plot_confusion_matrix(clf, X_test, y_test,\n",
    "                                 cmap=plt.cm.Blues)\n",
    "    disp.ax_.set_title(title)\n",
    "\n",
    "    print(title)\n",
    "    print(disp.confusion_matrix)\n",
    "\n",
    "plt.show()"
   ]
  },
  {
   "cell_type": "code",
   "execution_count": null,
   "metadata": {},
   "outputs": [],
   "source": []
  }
 ],
 "metadata": {
  "kernelspec": {
   "display_name": "Python 3",
   "language": "python",
   "name": "python3"
  },
  "language_info": {
   "codemirror_mode": {
    "name": "ipython",
    "version": 3
   },
   "file_extension": ".py",
   "mimetype": "text/x-python",
   "name": "python",
   "nbconvert_exporter": "python",
   "pygments_lexer": "ipython3",
   "version": "3.7.4"
  }
 },
 "nbformat": 4,
 "nbformat_minor": 2
}
